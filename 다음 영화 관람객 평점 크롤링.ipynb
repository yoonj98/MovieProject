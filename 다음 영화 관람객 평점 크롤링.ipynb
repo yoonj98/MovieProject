{
 "cells": [
  {
   "cell_type": "code",
   "execution_count": null,
   "metadata": {},
   "outputs": [],
   "source": [
    "from bs4 import BeautifulSoup\n",
    "from selenium import webdriver\n",
    "from selenium.webdriver.chrome.options import Options"
   ]
  },
  {
   "cell_type": "code",
   "execution_count": null,
   "metadata": {},
   "outputs": [],
   "source": [
    "chrome_options = Options()\n",
    "chrome_options.add_argument('--headless')\n",
    "chrome_driver_path = 'C:/chrome_driver/chromedriver.exe' # chrome driver의 경로\n",
    "driver = webdriver.Chrome(chrome_options=chrome_options, executable_path=chrome_driver_path)\n",
    "url_r = 'https://movie.daum.net/moviedb/main?movieId='\n",
    "daum_code = '108595'\n",
    "url = url_r + daum_code\n",
    "driver.get(url)\n",
    "soup = BeautifulSoup(driver.page_source, 'html.parser')\n",
    "mvscore = soup.find_all('span', {'class': 'score_rating'})\n",
    "daumScore = mvscore[0].string\n",
    "daumspecialScore = mvscore[1].string\n",
    "print(mvscore)"
   ]
  },
  {
   "cell_type": "code",
   "execution_count": null,
   "metadata": {},
   "outputs": [],
   "source": [
    "def get_daumScore(i):\n",
    "    chrome_options = Options()\n",
    "    chrome_options.add_argument('--headless')\n",
    "    chrome_driver_path = 'C:/chrome_driver/chromedriver.exe' # chrome driver의 경로\n",
    "    driver = webdriver.Chrome(chrome_options=chrome_options, executable_path=chrome_driver_path)\n",
    "    url_r = 'https://movie.daum.net/moviedb/main?movieId='\n",
    "    daum_code = str(i)\n",
    "    url = url_r + daum_code\n",
    "    driver.get(url)\n",
    "    soup = BeautifulSoup(driver.page_source, 'html.parser')\n",
    "    mvscore = soup.find_all('span', {'class': 'score_rating'})\n",
    "    #if(mvscore == '') : return print(str(i))\n",
    "    daumScore = mvscore[0].string\n",
    "    daumspecialScore = mvscore[1].string\n",
    "    return daumScore, daumspecialScore"
   ]
  },
  {
   "cell_type": "code",
   "execution_count": null,
   "metadata": {},
   "outputs": [],
   "source": [
    "import pandas as pd\n",
    "\n",
    "df=pd.read_csv('C:\\\\Users\\\\Jiwon\\\\Desktop\\\\Movie\\\\regression\\\\data\\\\daumms.csv', encoding='CP949')\n",
    "df1 = df\n",
    "df = pd.concat([df,df1], axis = 1)\n",
    "df\n",
    "df.columns =[\"movieNm\", \"codes\", \"daumScore\", \"daumSpecialScore\"]\n",
    "df['daumScore'] = 'NA'\n",
    "df['daumSpecialScore'] = 'NA'\n",
    "res = df\n",
    "res\n",
    "idx = 0\n",
    "for i in res['codes'].values:\n",
    "    print(str(i)  + \"idx : \" + str(idx))\n",
    "    res.daumScore.values[idx], res.daumSpecialScore.values[idx] = get_daumScore(str(i))\n",
    "    print(\"daumScore : \" + res.daumScore.values[idx] + \"special: \" + res.daumSpecialScore.values[idx])\n",
    "    idx +=1\n",
    "x, y = get_daumScore('116145)\n",
    "df.daumScore.values[54], df.daumSpecialScore.values[54] = get_daumScore('100359')\n",
    "res['daumScore'][54] = 6.6\n",
    "res['daumSpecialScore'][54]= 6.1\n",
    "res.iloc[54]"
   ]
  },
  {
   "cell_type": "code",
   "execution_count": null,
   "metadata": {},
   "outputs": [],
   "source": [
    "import time\n",
    "\n",
    "df_del = res\n",
    "df_del=df_del.iloc[792:]\n",
    "df_del\n",
    "idx = 55\n",
    "for i in df_del['codes'].values:\n",
    "    print(str(i)  + \"idx : \" + str(idx))\n",
    "    res.daumScore.values[idx], res.daumSpecialScore.values[idx] = get_daumScore(str(i))\n",
    "    print(\"daumScore : \" + res.daumScore.values[idx] + \"special: \" + res.daumSpecialScore.values[idx])\n",
    "    idx +=1\n",
    "res['daumScore'][72] = 8.9\n",
    "res['daumSpecialScore'][72]= 0\n",
    "res.iloc[72]\n",
    "idx = 73\n",
    "for i in df_del['codes'].values:\n",
    "    print(str(i)  + \"idx : \" + str(idx))\n",
    "    res.daumScore.values[idx], res.daumSpecialScore.values[idx] = get_daumScore(str(i))\n",
    "    print(\"daumScore : \" + res.daumScore.values[idx] + \"special: \" + res.daumSpecialScore.values[idx])\n",
    "    idx +=1\n",
    "res['daumScore'][245] = 7.6\n",
    "res['daumSpecialScore'][245]= 0\n",
    "res.iloc[245]\n",
    "idx = 246\n",
    "for i in df_del['codes'].values:\n",
    "    print(str(i)  + \"idx : \" + str(idx))\n",
    "    res.daumScore.values[idx], res.daumSpecialScore.values[idx] = get_daumScore(str(i))\n",
    "    print(\"daumScore : \" + res.daumScore.values[idx] + \"special: \" + res.daumSpecialScore.values[idx])\n",
    "    idx +=1"
   ]
  },
  {
   "cell_type": "code",
   "execution_count": null,
   "metadata": {},
   "outputs": [],
   "source": [
    "def get_daumScore2(i):\n",
    "    chrome_options = Options()\n",
    "    chrome_options.add_argument('--headless')\n",
    "    chrome_driver_path = 'C:/chrome_driver/chromedriver.exe' # chrome driver의 경로\n",
    "    driver = webdriver.Chrome(chrome_options=chrome_options, executable_path=chrome_driver_path)\n",
    "    url_r = 'https://movie.daum.net/moviedb/main?movieId='\n",
    "    daum_code = str(i)\n",
    "    url = url_r + daum_code\n",
    "    driver.get(url)\n",
    "    soup = BeautifulSoup(driver.page_source, 'html.parser')\n",
    "    mvscore = soup.find_all('span', {'class': 'score_rating'})\n",
    "    if(len(mvscore) == 1) : return mvscore[0].string, str(0)\n",
    "    daumScore = mvscore[0].string\n",
    "    daumspecialScore = mvscore[1].string\n",
    "    return daumScore, daumspecialScore\n",
    "\n",
    "idx = 792\n",
    "\n",
    "for i in df_del['codes'].values:\n",
    "    print(str(i)  + \"idx : \" + str(idx))\n",
    "    res.daumScore.values[idx], res.daumSpecialScore.values[idx] = get_daumScore2(str(i))\n",
    "    print(\"daumScore : \" + res.daumScore.values[idx] + \"special: \" + res.daumSpecialScore.values[idx])\n",
    "    idx +=1\n",
    "    \n",
    "mvscore\n",
    "len(mvscore)\n",
    "\n",
    "res.to_csv('C:\\\\Users\\\\Jiwon\\\\Desktop\\\\Movie\\\\regression\\\\data\\\\daum_score.csv',encoding = 'CP949')"
   ]
  }
 ],
 "metadata": {
  "kernelspec": {
   "display_name": "Python 3",
   "language": "python",
   "name": "python3"
  },
  "language_info": {
   "codemirror_mode": {
    "name": "ipython",
    "version": 3
   },
   "file_extension": ".py",
   "mimetype": "text/x-python",
   "name": "python",
   "nbconvert_exporter": "python",
   "pygments_lexer": "ipython3",
   "version": "3.7.6"
  }
 },
 "nbformat": 4,
 "nbformat_minor": 4
}
